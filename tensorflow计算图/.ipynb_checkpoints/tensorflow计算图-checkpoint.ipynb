{
 "cells": [
  {
   "cell_type": "markdown",
   "id": "related-consortium",
   "metadata": {},
   "source": [
    "# 1. 动态计算图"
   ]
  },
  {
   "cell_type": "code",
   "execution_count": 1,
   "id": "pointed-thomas",
   "metadata": {},
   "outputs": [],
   "source": [
    "import tensorflow as tf"
   ]
  },
  {
   "cell_type": "code",
   "execution_count": 4,
   "id": "direct-surface",
   "metadata": {},
   "outputs": [
    {
     "name": "stdout",
     "output_type": "stream",
     "text": [
      "hello world\r\n"
     ]
    }
   ],
   "source": [
    "# 动态计算图在每个算子处都进行构建，构建后立即执行\n",
    "x = tf.constant('hello')\n",
    "y = tf.constant('world')\n",
    "z = tf.strings.join([x, y], separator=' ')\n",
    "tf.print(z)"
   ]
  },
  {
   "cell_type": "code",
   "execution_count": 6,
   "id": "palestinian-indonesia",
   "metadata": {},
   "outputs": [
    {
     "name": "stdout",
     "output_type": "stream",
     "text": [
      "hello world\n",
      "tf.Tensor(b'hello world', shape=(), dtype=string)\n"
     ]
    }
   ],
   "source": [
    "# 可以将动态计算图代码的输入和输出关系封装成函数\n",
    "def strjoin(x, y):\n",
    "    z = tf.strings.join([x, y], separator=' ')\n",
    "    tf.print(z)\n",
    "    return z\n",
    "\n",
    "res = strjoin(tf.constant('hello'), tf.constant('world'))\n",
    "print(res)"
   ]
  },
  {
   "cell_type": "markdown",
   "id": "collected-appearance",
   "metadata": {},
   "source": [
    "# 2. tensorflow2.0中的AutoGraph"
   ]
  },
  {
   "cell_type": "markdown",
   "id": "imported-partition",
   "metadata": {},
   "source": [
    "动态计算图运行效率相对较低。\n",
    "\n",
    "可以用@tf.function装饰器将普通Python函数转换成和TensorFlow1.0对应的静态计算图构建代码。\n",
    "\n",
    "在TensorFlow1.0中，使用计算图分两步，第一步定义计算图，第二步在会话中执行计算图。\n",
    "\n",
    "在TensorFlow2.0中，如果采用Autograph的方式使用计算图，第一步定义计算图变成了定义函数，第二步执行计算图变成了调用函数。\n",
    "\n",
    "不需要使用会话了，一些都像原始的Python语法一样自然。\n",
    "\n",
    "实践中，我们一般会先用动态计算图调试代码，然后在需要提高性能的的地方利用@tf.function切换成Autograph获得更高的效率。"
   ]
  },
  {
   "cell_type": "code",
   "execution_count": 7,
   "id": "brown-minimum",
   "metadata": {},
   "outputs": [
    {
     "name": "stdout",
     "output_type": "stream",
     "text": [
      "hello world\n",
      "tf.Tensor(b'hello world', shape=(), dtype=string)\n"
     ]
    }
   ],
   "source": [
    "# 使用AutoGraph构建静态图\n",
    "@tf.function\n",
    "def strjoin(x, y):\n",
    "    z = tf.strings.join([x, y], separator=' ')\n",
    "    tf.print(z)\n",
    "    return z\n",
    "\n",
    "res = strjoin(tf.constant('hello'), tf.constant('world'))\n",
    "print(res)"
   ]
  },
  {
   "cell_type": "code",
   "execution_count": 13,
   "id": "supposed-territory",
   "metadata": {},
   "outputs": [
    {
     "name": "stdout",
     "output_type": "stream",
     "text": [
      "WARNING:tensorflow:Trace already enabled\n",
      "hello world\n"
     ]
    }
   ],
   "source": [
    "import os\n",
    "import datetime\n",
    "stamp = datetime.datetime.now().strftime('%Y%m%d-%H%M%S')\n",
    "logdir = os.path.join('data', 'autograph', stamp)\n",
    "\n",
    "writer = tf.summary.create_file_writer(logdir)\n",
    "\n",
    "# 开启autograph跟踪\n",
    "tf.summary.trace_on(graph=True, profiler=True)\n",
    "\n",
    "# 执行graph\n",
    "result = strjoin('hello', 'world')\n",
    "\n",
    "# 将计算图信息写入日志\n",
    "with writer.as_default():\n",
    "    tf.summary.trace_export(name='autograph', step=0, profiler_outdir=logdir)"
   ]
  },
  {
   "cell_type": "code",
   "execution_count": 16,
   "id": "casual-balloon",
   "metadata": {},
   "outputs": [
    {
     "name": "stdout",
     "output_type": "stream",
     "text": [
      "The tensorboard extension is already loaded. To reload it, use:\n",
      "  %reload_ext tensorboard\n"
     ]
    },
    {
     "data": {
      "text/plain": [
       "Reusing TensorBoard on port 6006 (pid 32384), started 0:00:56 ago. (Use '!kill 32384' to kill it.)"
      ]
     },
     "metadata": {},
     "output_type": "display_data"
    },
    {
     "data": {
      "text/html": [
       "\n",
       "      <iframe id=\"tensorboard-frame-bc87027c286e2ada\" width=\"100%\" height=\"800\" frameborder=\"0\">\n",
       "      </iframe>\n",
       "      <script>\n",
       "        (function() {\n",
       "          const frame = document.getElementById(\"tensorboard-frame-bc87027c286e2ada\");\n",
       "          const url = new URL(\"/\", window.location);\n",
       "          url.port = 6006;\n",
       "          frame.src = url;\n",
       "        })();\n",
       "      </script>\n",
       "  "
      ],
      "text/plain": [
       "<IPython.core.display.HTML object>"
      ]
     },
     "metadata": {},
     "output_type": "display_data"
    }
   ],
   "source": [
    "# 启动tensorboard在jupyter中的魔法命令\n",
    "%load_ext tensorboard\n",
    "\n",
    "# 启动tensorboard\n",
    "%tensorboard --logdir ./data/autograph"
   ]
  },
  {
   "cell_type": "code",
   "execution_count": null,
   "id": "vulnerable-gamma",
   "metadata": {},
   "outputs": [],
   "source": []
  }
 ],
 "metadata": {
  "kernelspec": {
   "display_name": "Python 3",
   "language": "python",
   "name": "python3"
  },
  "language_info": {
   "codemirror_mode": {
    "name": "ipython",
    "version": 3
   },
   "file_extension": ".py",
   "mimetype": "text/x-python",
   "name": "python",
   "nbconvert_exporter": "python",
   "pygments_lexer": "ipython3",
   "version": "3.7.4"
  }
 },
 "nbformat": 4,
 "nbformat_minor": 5
}

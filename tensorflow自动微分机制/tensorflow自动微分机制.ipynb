{
 "cells": [
  {
   "cell_type": "markdown",
   "id": "together-microphone",
   "metadata": {},
   "source": [
    "# 1. 利用梯度磁带计算导数"
   ]
  },
  {
   "cell_type": "code",
   "execution_count": 1,
   "id": "posted-pathology",
   "metadata": {},
   "outputs": [
    {
     "name": "stdout",
     "output_type": "stream",
     "text": [
      "tf.Tensor(2.0, shape=(), dtype=float32)\n"
     ]
    }
   ],
   "source": [
    "import tensorflow as tf\n",
    "import numpy as np\n",
    "\n",
    "# 计算函数 f(x) = a*x**2 + b*x + c 在x=2.0处的导数\n",
    "\n",
    "x = tf.Variable(2.0, name='x', dtype=tf.float32)\n",
    "a = tf.constant(1.0)\n",
    "b = tf.constant(-2.0)\n",
    "c = tf.constant(1.0)\n",
    "\n",
    "with tf.GradientTape() as tape:\n",
    "    y = a*tf.pow(x, 2) + b*x + c\n",
    "    \n",
    "dy_dx = tape.gradient(y, x)\n",
    "print(dy_dx)"
   ]
  },
  {
   "cell_type": "code",
   "execution_count": 10,
   "id": "necessary-frost",
   "metadata": {},
   "outputs": [
    {
     "name": "stdout",
     "output_type": "stream",
     "text": [
      "2.0\n",
      "tf.Tensor(4.0, shape=(), dtype=float32)\n",
      "tf.Tensor(2.0, shape=(), dtype=float32)\n",
      "tf.Tensor(1.0, shape=(), dtype=float32)\n"
     ]
    }
   ],
   "source": [
    "#　对常量张量求导，需要增加watch\n",
    "with tf.GradientTape() as tape:\n",
    "    tape.watch([a, b, c])\n",
    "    y = a*tf.pow(x, 2) + b*x + c\n",
    "\n",
    "dy_dx, dy_da, dy_db, dy_dc = tape.gradient(y, [x, a, b, c])\n",
    "print(dy_dx.numpy())\n",
    "print(dy_da)\n",
    "print(dy_db)\n",
    "print(dy_dc)"
   ]
  },
  {
   "cell_type": "code",
   "execution_count": 11,
   "id": "improved-basketball",
   "metadata": {},
   "outputs": [
    {
     "name": "stdout",
     "output_type": "stream",
     "text": [
      "tf.Tensor(2.0, shape=(), dtype=float32)\n"
     ]
    }
   ],
   "source": [
    "# 求二阶导数\n",
    "with tf.GradientTape() as tape2:\n",
    "    with tf.GradientTape() as tape1:\n",
    "        y = a*tf.pow(x, 2) + b*x + c\n",
    "    dy_dx = tape1.gradient(y, x)\n",
    "dy2_dx2 = tape2.gradient(dy_dx, x)\n",
    "\n",
    "print(dy2_dx2)"
   ]
  },
  {
   "cell_type": "code",
   "execution_count": 16,
   "id": "molecular-empire",
   "metadata": {},
   "outputs": [
    {
     "name": "stdout",
     "output_type": "stream",
     "text": [
      "(<tf.Tensor: id=304, shape=(), dtype=float32, numpy=0.0>, <tf.Tensor: id=305, shape=(), dtype=float32, numpy=0.0>)\n",
      "(<tf.Tensor: id=307, shape=(), dtype=float32, numpy=2.0>, <tf.Tensor: id=308, shape=(), dtype=float32, numpy=1.0>)\n"
     ]
    }
   ],
   "source": [
    "# 在autograph中使用\n",
    "@tf.function\n",
    "def f(x):\n",
    "    a = tf.constant(1.0)\n",
    "    b = tf.constant(-2.0)\n",
    "    c = tf.constant(1.0)\n",
    "    \n",
    "    # 利用cast将x转为float32\n",
    "    x = tf.cast(x, tf.float32)\n",
    "    with tf.GradientTape() as tape:\n",
    "        tape.watch(x)\n",
    "        y = a*tf.pow(x, 2) + b*x +c\n",
    "    dy_dx = tape.gradient(y, x)\n",
    "    \n",
    "    return (dy_dx, y)\n",
    "\n",
    "print(f(tf.constant(1)))\n",
    "print(f(tf.constant(2)))"
   ]
  },
  {
   "cell_type": "markdown",
   "id": "genetic-aquatic",
   "metadata": {},
   "source": [
    "# 2. 利用梯度磁带和优化器求最小值"
   ]
  },
  {
   "cell_type": "code",
   "execution_count": 20,
   "id": "conceptual-mouth",
   "metadata": {},
   "outputs": [
    {
     "name": "stdout",
     "output_type": "stream",
     "text": [
      "y = 0 , x = 0.999998569\r\n"
     ]
    }
   ],
   "source": [
    "# 使用optimizer.apply_gradients求函数f(x) = a*x**2 + b*x +c 的最小值\n",
    "x = tf.Variable(0.0, name='x', dtype=tf.float32)\n",
    "a = tf.constant(1.0)\n",
    "b = tf.constant(-2.0)\n",
    "c = tf.constant(1.0)\n",
    "\n",
    "optimizer = tf.keras.optimizers.SGD(learning_rate=0.01)\n",
    "for _ in range(1000):\n",
    "    with tf.GradientTape() as tape:\n",
    "        y = a*tf.pow(x, 2) + b*x + c\n",
    "    dy_dx = tape.gradient(y, x)\n",
    "    optimizer.apply_gradients(grads_and_vars=[(dy_dx, x)])\n",
    "\n",
    "tf.print('y =', y, ', x =', x)"
   ]
  },
  {
   "cell_type": "code",
   "execution_count": 22,
   "id": "obvious-personal",
   "metadata": {},
   "outputs": [
    {
     "name": "stdout",
     "output_type": "stream",
     "text": [
      "y = 0 , x = 0.999998569\r\n"
     ]
    }
   ],
   "source": [
    "# 使用optimizer.minimize求函数最小值\n",
    "# optimizer.minimize相当于先用tape求gradient，再apply_gradients\n",
    "x = tf.Variable(0.0, name='x', dtype=tf.float32)\n",
    "\n",
    "def f():\n",
    "    a = tf.constant(1.0)\n",
    "    b = tf.constant(-2.0)\n",
    "    c = tf.constant(1.0)\n",
    "    y = a*tf.pow(x, 2) + b*x + c\n",
    "    return y\n",
    "\n",
    "optimizer = tf.keras.optimizers.SGD(learning_rate=0.01)\n",
    "for _ in range(1000):\n",
    "    optimizer.minimize(f, [x])\n",
    "\n",
    "tf.print('y =', y, ', x =', x)"
   ]
  },
  {
   "cell_type": "code",
   "execution_count": 29,
   "id": "micro-crack",
   "metadata": {},
   "outputs": [
    {
     "name": "stdout",
     "output_type": "stream",
     "text": [
      "0\n",
      "0.999998569\n"
     ]
    }
   ],
   "source": [
    "# 在autograph中使用optimizer.apply_gradients求函数f(x) = a*x**2 + b*x +c 的最小值\n",
    "x = tf.Variable(0.0, name='x', dtype=tf.float32)\n",
    "optimizer = tf.keras.optimizers.SGD(learning_rate=0.01)\n",
    "\n",
    "@tf.function\n",
    "def minimizef():\n",
    "    a = tf.constant(1.0)\n",
    "    b = tf.constant(-2.0)\n",
    "    c = tf.constant(1.0)\n",
    "    \n",
    "    for _ in tf.range(1000):\n",
    "        with tf.GradientTape() as tape:\n",
    "            y = a*tf.pow(x, 2) + b*x + c\n",
    "        dy_dx = tape.gradient(y, x)\n",
    "        optimizer.apply_gradients(grads_and_vars=[(dy_dx, x)])\n",
    "    y = a*tf.pow(x, 2) + b*x + c\n",
    "    return y\n",
    "        \n",
    "tf.print(minimizef())\n",
    "tf.print(x)"
   ]
  },
  {
   "cell_type": "code",
   "execution_count": 32,
   "id": "fifth-stage",
   "metadata": {},
   "outputs": [
    {
     "name": "stdout",
     "output_type": "stream",
     "text": [
      "0\n",
      "0.999998569\n"
     ]
    }
   ],
   "source": [
    "# 在autograph中使用optimizer.minimize求函数f(x) = a*x**2 + b*x +c 的最小值\n",
    "x = tf.Variable(0.0, name='x', dtype=tf.float32)\n",
    "optimizer = tf.keras.optimizers.SGD(learning_rate=0.01)\n",
    "\n",
    "@tf.function\n",
    "def f():\n",
    "    a = tf.constant(1.0)\n",
    "    b = tf.constant(-2.0)\n",
    "    c = tf.constant(1.0)\n",
    "    y = a*tf.pow(x, 2) + b*x + c\n",
    "    return y\n",
    "\n",
    "@tf.function\n",
    "def train():\n",
    "    for _ in range(1000):\n",
    "        optimizer.minimize(f, [x])\n",
    "    return f()\n",
    "\n",
    "tf.print(train())\n",
    "tf.print(x)"
   ]
  },
  {
   "cell_type": "code",
   "execution_count": null,
   "id": "complimentary-disaster",
   "metadata": {},
   "outputs": [],
   "source": []
  }
 ],
 "metadata": {
  "kernelspec": {
   "display_name": "Python 3",
   "language": "python",
   "name": "python3"
  },
  "language_info": {
   "codemirror_mode": {
    "name": "ipython",
    "version": 3
   },
   "file_extension": ".py",
   "mimetype": "text/x-python",
   "name": "python",
   "nbconvert_exporter": "python",
   "pygments_lexer": "ipython3",
   "version": "3.7.4"
  }
 },
 "nbformat": 4,
 "nbformat_minor": 5
}

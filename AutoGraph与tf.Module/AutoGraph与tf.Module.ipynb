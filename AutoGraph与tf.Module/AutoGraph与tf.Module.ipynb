{
 "cells": [
  {
   "cell_type": "markdown",
   "id": "under-holocaust",
   "metadata": {},
   "source": [
    "# 1. 应用tf.Module封装AutoGraph"
   ]
  },
  {
   "cell_type": "markdown",
   "id": "proved-assumption",
   "metadata": {},
   "source": [
    "定义一个简单的function"
   ]
  },
  {
   "cell_type": "code",
   "execution_count": 1,
   "id": "lonely-progress",
   "metadata": {},
   "outputs": [],
   "source": [
    "import tensorflow as tf\n",
    "\n",
    "x = tf.Variable(1.0, dtype=tf.float32)\n",
    "\n",
    "# 在tf.function中用input_signature限定输入张量的签名类型：shape和type\n",
    "@tf.function(input_signature=[tf.TensorSpec(shape=[], dtype=tf.float32)])\n",
    "def add_print(a):\n",
    "    x.assign_add(a)\n",
    "    tf.print(x)\n",
    "    return x"
   ]
  },
  {
   "cell_type": "code",
   "execution_count": 2,
   "id": "floating-november",
   "metadata": {},
   "outputs": [
    {
     "name": "stdout",
     "output_type": "stream",
     "text": [
      "6\r\n"
     ]
    },
    {
     "data": {
      "text/plain": [
       "<tf.Tensor: id=18, shape=(), dtype=float32, numpy=6.0>"
      ]
     },
     "execution_count": 2,
     "metadata": {},
     "output_type": "execute_result"
    }
   ],
   "source": [
    "add_print(tf.constant(5.0))\n",
    "# add_print(tf.constant(5))    输入不符合输入张量类型的参数将报错"
   ]
  },
  {
   "cell_type": "markdown",
   "id": "brazilian-spring",
   "metadata": {},
   "source": [
    "利用tf.Module子类化对函数进行封装"
   ]
  },
  {
   "cell_type": "code",
   "execution_count": 3,
   "id": "white-terror",
   "metadata": {},
   "outputs": [],
   "source": [
    "class DemoModule(tf.Module):\n",
    "    def __init__(self, init_value=tf.constant(0.0), name=None):\n",
    "        super(DemoModule, self).__init__(name=name)\n",
    "        with self.name_scope:\n",
    "            self.x = tf.Variable(init_value, dtype=tf.float32, trainable=True)\n",
    "            \n",
    "    @tf.function(input_signature=[tf.TensorSpec(shape=[], dtype=tf.float32)])\n",
    "    def addprint(self, a):\n",
    "        with self.name_scope:\n",
    "            self.x.assign_add(a)\n",
    "            tf.print(self.x)\n",
    "            return self.x"
   ]
  },
  {
   "cell_type": "code",
   "execution_count": 4,
   "id": "greenhouse-reporter",
   "metadata": {},
   "outputs": [
    {
     "name": "stdout",
     "output_type": "stream",
     "text": [
      "5\r\n"
     ]
    }
   ],
   "source": [
    "demo = DemoModule(tf.constant(1.0))\n",
    "res = demo.addprint(tf.constant(4.0))"
   ]
  },
  {
   "cell_type": "code",
   "execution_count": 5,
   "id": "indirect-concept",
   "metadata": {},
   "outputs": [
    {
     "name": "stdout",
     "output_type": "stream",
     "text": [
      "(<tf.Variable 'demo_module/Variable:0' shape=() dtype=float32, numpy=5.0>,)\n",
      "(<tf.Variable 'demo_module/Variable:0' shape=() dtype=float32, numpy=5.0>,)\n"
     ]
    }
   ],
   "source": [
    "# 查看模块中全部变量和全部可训练变量\n",
    "print(demo.variables)\n",
    "print(demo.trainable_variables)"
   ]
  },
  {
   "cell_type": "code",
   "execution_count": 6,
   "id": "corresponding-water",
   "metadata": {},
   "outputs": [
    {
     "data": {
      "text/plain": [
       "()"
      ]
     },
     "execution_count": 6,
     "metadata": {},
     "output_type": "execute_result"
    }
   ],
   "source": [
    "# 查看模块中全部子模块\n",
    "demo.submodules"
   ]
  },
  {
   "cell_type": "code",
   "execution_count": 7,
   "id": "inner-willow",
   "metadata": {},
   "outputs": [
    {
     "name": "stdout",
     "output_type": "stream",
     "text": [
      "WARNING:tensorflow:From F:\\software_install\\anaconda3\\lib\\site-packages\\tensorflow_core\\python\\ops\\resource_variable_ops.py:1781: calling BaseResourceVariable.__init__ (from tensorflow.python.ops.resource_variable_ops) with constraint is deprecated and will be removed in a future version.\n",
      "Instructions for updating:\n",
      "If using Keras pass *_constraint arguments to layers.\n",
      "INFO:tensorflow:Assets written to: ./demo/1\\assets\n"
     ]
    }
   ],
   "source": [
    "# 使用tf.saved_model保存模型，并指定需要跨平台部署的方法\n",
    "import os\n",
    "# os.mkdir('./demo/1')\n",
    "tf.saved_model.save(demo, './demo/1', signatures={'serving_default': demo.addprint})"
   ]
  },
  {
   "cell_type": "code",
   "execution_count": 8,
   "id": "boxed-brooklyn",
   "metadata": {},
   "outputs": [
    {
     "name": "stdout",
     "output_type": "stream",
     "text": [
      "10\r\n"
     ]
    },
    {
     "data": {
      "text/plain": [
       "<tf.Tensor: id=183, shape=(), dtype=float32, numpy=10.0>"
      ]
     },
     "execution_count": 8,
     "metadata": {},
     "output_type": "execute_result"
    }
   ],
   "source": [
    "# 加载模型\n",
    "demo2 = tf.saved_model.load('./demo/1')\n",
    "demo2.addprint(tf.constant(5.0))"
   ]
  },
  {
   "cell_type": "code",
   "execution_count": 9,
   "id": "recent-mattress",
   "metadata": {},
   "outputs": [
    {
     "name": "stdout",
     "output_type": "stream",
     "text": [
      "\n",
      "MetaGraphDef with tag-set: 'serve' contains the following SignatureDefs:\n",
      "\n",
      "signature_def['__saved_model_init_op']:\n",
      "  The given SavedModel SignatureDef contains the following input(s):\n",
      "  The given SavedModel SignatureDef contains the following output(s):\n",
      "    outputs['__saved_model_init_op'] tensor_info:\n",
      "        dtype: DT_INVALID\n",
      "        shape: unknown_rank\n",
      "        name: NoOp\n",
      "  Method name is: \n",
      "\n",
      "signature_def['serving_default']:\n",
      "  The given SavedModel SignatureDef contains the following input(s):\n",
      "    inputs['a'] tensor_info:\n",
      "        dtype: DT_FLOAT\n",
      "        shape: ()\n",
      "        name: serving_default_a:0\n",
      "  The given SavedModel SignatureDef contains the following output(s):\n",
      "    outputs['output_0'] tensor_info:\n",
      "        dtype: DT_FLOAT\n",
      "        shape: ()\n",
      "        name: StatefulPartitionedCall:0\n",
      "  Method name is: tensorflow/serving/predict\n"
     ]
    }
   ],
   "source": [
    "# 查看模型文件相关信息\n",
    "!saved_model_cli show --dir ./demo/1 --all"
   ]
  },
  {
   "cell_type": "raw",
   "id": "expired-empty",
   "metadata": {},
   "source": [
    "在tensorboard中查看计算图，模块会被添加模块名demo_module,方便层次化呈现计算图结构。"
   ]
  },
  {
   "cell_type": "code",
   "execution_count": 10,
   "id": "alternative-reading",
   "metadata": {},
   "outputs": [
    {
     "name": "stdout",
     "output_type": "stream",
     "text": [
      "6\r\n"
     ]
    },
    {
     "ename": "NotFoundError",
     "evalue": "Failed to create a directory: ./demo/20210313-174835\\plugins\\profile\\2021-03-13_17-48-35; No such file or directory",
     "output_type": "error",
     "traceback": [
      "\u001b[1;31m---------------------------------------------------------------------------\u001b[0m",
      "\u001b[1;31mNotFoundError\u001b[0m                             Traceback (most recent call last)",
      "\u001b[1;32m<ipython-input-10-730a5e26bc1b>\u001b[0m in \u001b[0;36m<module>\u001b[1;34m\u001b[0m\n\u001b[0;32m     18\u001b[0m         \u001b[0mname\u001b[0m\u001b[1;33m=\u001b[0m\u001b[1;34m'demomodule'\u001b[0m\u001b[1;33m,\u001b[0m\u001b[1;33m\u001b[0m\u001b[1;33m\u001b[0m\u001b[0m\n\u001b[0;32m     19\u001b[0m         \u001b[0mstep\u001b[0m\u001b[1;33m=\u001b[0m\u001b[1;36m0\u001b[0m\u001b[1;33m,\u001b[0m\u001b[1;33m\u001b[0m\u001b[1;33m\u001b[0m\u001b[0m\n\u001b[1;32m---> 20\u001b[1;33m         profiler_outdir=logdir)\n\u001b[0m",
      "\u001b[1;32mF:\\software_install\\anaconda3\\lib\\site-packages\\tensorflow_core\\python\\ops\\summary_ops_v2.py\u001b[0m in \u001b[0;36mtrace_export\u001b[1;34m(name, step, profiler_outdir)\u001b[0m\n\u001b[0;32m   1216\u001b[0m \u001b[1;33m\u001b[0m\u001b[0m\n\u001b[0;32m   1217\u001b[0m   \u001b[1;32mif\u001b[0m \u001b[0mprofiler\u001b[0m\u001b[1;33m:\u001b[0m\u001b[1;33m\u001b[0m\u001b[1;33m\u001b[0m\u001b[0m\n\u001b[1;32m-> 1218\u001b[1;33m     \u001b[0m_profiler\u001b[0m\u001b[1;33m.\u001b[0m\u001b[0msave\u001b[0m\u001b[1;33m(\u001b[0m\u001b[0mprofiler_outdir\u001b[0m\u001b[1;33m,\u001b[0m \u001b[0m_profiler\u001b[0m\u001b[1;33m.\u001b[0m\u001b[0mstop\u001b[0m\u001b[1;33m(\u001b[0m\u001b[1;33m)\u001b[0m\u001b[1;33m)\u001b[0m\u001b[1;33m\u001b[0m\u001b[1;33m\u001b[0m\u001b[0m\n\u001b[0m\u001b[0;32m   1219\u001b[0m \u001b[1;33m\u001b[0m\u001b[0m\n\u001b[0;32m   1220\u001b[0m   \u001b[0mtrace_off\u001b[0m\u001b[1;33m(\u001b[0m\u001b[1;33m)\u001b[0m\u001b[1;33m\u001b[0m\u001b[1;33m\u001b[0m\u001b[0m\n",
      "\u001b[1;32mF:\\software_install\\anaconda3\\lib\\site-packages\\tensorflow_core\\python\\eager\\profiler.py\u001b[0m in \u001b[0;36msave\u001b[1;34m(logdir, result)\u001b[0m\n\u001b[0;32m    138\u001b[0m       \u001b[0mlogdir\u001b[0m\u001b[1;33m,\u001b[0m \u001b[1;34m'plugins'\u001b[0m\u001b[1;33m,\u001b[0m \u001b[1;34m'profile'\u001b[0m\u001b[1;33m,\u001b[0m\u001b[1;33m\u001b[0m\u001b[1;33m\u001b[0m\u001b[0m\n\u001b[0;32m    139\u001b[0m       datetime.datetime.now().strftime('%Y-%m-%d_%H-%M-%S'))\n\u001b[1;32m--> 140\u001b[1;33m   \u001b[0mgfile\u001b[0m\u001b[1;33m.\u001b[0m\u001b[0mMakeDirs\u001b[0m\u001b[1;33m(\u001b[0m\u001b[0mplugin_dir\u001b[0m\u001b[1;33m)\u001b[0m\u001b[1;33m\u001b[0m\u001b[1;33m\u001b[0m\u001b[0m\n\u001b[0m\u001b[0;32m    141\u001b[0m   \u001b[0mmaybe_create_event_file\u001b[0m\u001b[1;33m(\u001b[0m\u001b[0mlogdir\u001b[0m\u001b[1;33m)\u001b[0m\u001b[1;33m\u001b[0m\u001b[1;33m\u001b[0m\u001b[0m\n\u001b[0;32m    142\u001b[0m   \u001b[1;32mwith\u001b[0m \u001b[0mgfile\u001b[0m\u001b[1;33m.\u001b[0m\u001b[0mOpen\u001b[0m\u001b[1;33m(\u001b[0m\u001b[0mos\u001b[0m\u001b[1;33m.\u001b[0m\u001b[0mpath\u001b[0m\u001b[1;33m.\u001b[0m\u001b[0mjoin\u001b[0m\u001b[1;33m(\u001b[0m\u001b[0mplugin_dir\u001b[0m\u001b[1;33m,\u001b[0m \u001b[1;34m'local.trace'\u001b[0m\u001b[1;33m)\u001b[0m\u001b[1;33m,\u001b[0m \u001b[1;34m'wb'\u001b[0m\u001b[1;33m)\u001b[0m \u001b[1;32mas\u001b[0m \u001b[0mf\u001b[0m\u001b[1;33m:\u001b[0m\u001b[1;33m\u001b[0m\u001b[1;33m\u001b[0m\u001b[0m\n",
      "\u001b[1;32mF:\\software_install\\anaconda3\\lib\\site-packages\\tensorflow_core\\python\\lib\\io\\file_io.py\u001b[0m in \u001b[0;36mrecursive_create_dir\u001b[1;34m(dirname)\u001b[0m\n\u001b[0;32m    436\u001b[0m     \u001b[0merrors\u001b[0m\u001b[1;33m.\u001b[0m\u001b[0mOpError\u001b[0m\u001b[1;33m:\u001b[0m \u001b[0mIf\u001b[0m \u001b[0mthe\u001b[0m \u001b[0moperation\u001b[0m \u001b[0mfails\u001b[0m\u001b[1;33m.\u001b[0m\u001b[1;33m\u001b[0m\u001b[1;33m\u001b[0m\u001b[0m\n\u001b[0;32m    437\u001b[0m   \"\"\"\n\u001b[1;32m--> 438\u001b[1;33m   \u001b[0mrecursive_create_dir_v2\u001b[0m\u001b[1;33m(\u001b[0m\u001b[0mdirname\u001b[0m\u001b[1;33m)\u001b[0m\u001b[1;33m\u001b[0m\u001b[1;33m\u001b[0m\u001b[0m\n\u001b[0m\u001b[0;32m    439\u001b[0m \u001b[1;33m\u001b[0m\u001b[0m\n\u001b[0;32m    440\u001b[0m \u001b[1;33m\u001b[0m\u001b[0m\n",
      "\u001b[1;32mF:\\software_install\\anaconda3\\lib\\site-packages\\tensorflow_core\\python\\lib\\io\\file_io.py\u001b[0m in \u001b[0;36mrecursive_create_dir_v2\u001b[1;34m(path)\u001b[0m\n\u001b[0;32m    451\u001b[0m     \u001b[0merrors\u001b[0m\u001b[1;33m.\u001b[0m\u001b[0mOpError\u001b[0m\u001b[1;33m:\u001b[0m \u001b[0mIf\u001b[0m \u001b[0mthe\u001b[0m \u001b[0moperation\u001b[0m \u001b[0mfails\u001b[0m\u001b[1;33m.\u001b[0m\u001b[1;33m\u001b[0m\u001b[1;33m\u001b[0m\u001b[0m\n\u001b[0;32m    452\u001b[0m   \"\"\"\n\u001b[1;32m--> 453\u001b[1;33m   \u001b[0mpywrap_tensorflow\u001b[0m\u001b[1;33m.\u001b[0m\u001b[0mRecursivelyCreateDir\u001b[0m\u001b[1;33m(\u001b[0m\u001b[0mcompat\u001b[0m\u001b[1;33m.\u001b[0m\u001b[0mas_bytes\u001b[0m\u001b[1;33m(\u001b[0m\u001b[0mpath\u001b[0m\u001b[1;33m)\u001b[0m\u001b[1;33m)\u001b[0m\u001b[1;33m\u001b[0m\u001b[1;33m\u001b[0m\u001b[0m\n\u001b[0m\u001b[0;32m    454\u001b[0m \u001b[1;33m\u001b[0m\u001b[0m\n\u001b[0;32m    455\u001b[0m \u001b[1;33m\u001b[0m\u001b[0m\n",
      "\u001b[1;31mNotFoundError\u001b[0m: Failed to create a directory: ./demo/20210313-174835\\plugins\\profile\\2021-03-13_17-48-35; No such file or directory"
     ]
    }
   ],
   "source": [
    "import datetime\n",
    "\n",
    "# 创建日志\n",
    "stamp = datetime.datetime.now().strftime('%Y%m%d-%H%M%S')\n",
    "logdir = './demo/%s' % stamp\n",
    "writer = tf.summary.create_file_writer(logdir)\n",
    "\n",
    "# 开启autograph追踪\n",
    "tf.summary.trace_on(graph=True, profiler=True)\n",
    "\n",
    "# 执行autograph\n",
    "demo = DemoModule(init_value=tf.constant(0.0))\n",
    "result = demo.addprint(tf.constant(6.0))\n",
    "\n",
    "# 将计算图信息写入日志\n",
    "with writer.as_default():\n",
    "    tf.summary.trace_export(\n",
    "        name='demomodule',\n",
    "        step=0, \n",
    "        profiler_outdir=logdir)"
   ]
  },
  {
   "cell_type": "code",
   "execution_count": 11,
   "id": "aggressive-perth",
   "metadata": {},
   "outputs": [],
   "source": [
    "# 启动tensorboard在jupyter中的魔法命令\n",
    "%reload_ext tensorboard"
   ]
  },
  {
   "cell_type": "code",
   "execution_count": 12,
   "id": "timely-handbook",
   "metadata": {},
   "outputs": [
    {
     "name": "stdout",
     "output_type": "stream",
     "text": [
      "No known TensorBoard instances running.\n"
     ]
    }
   ],
   "source": [
    "from tensorboard import notebook\n",
    "notebook.list()"
   ]
  },
  {
   "cell_type": "code",
   "execution_count": 15,
   "id": "extraordinary-bread",
   "metadata": {},
   "outputs": [
    {
     "data": {
      "text/plain": [
       "Reusing TensorBoard on port 6006 (pid 142480), started 0:01:40 ago. (Use '!kill 142480' to kill it.)"
      ]
     },
     "metadata": {},
     "output_type": "display_data"
    },
    {
     "data": {
      "text/html": [
       "\n",
       "      <iframe id=\"tensorboard-frame-e9c77abcfce8e986\" width=\"100%\" height=\"800\" frameborder=\"0\">\n",
       "      </iframe>\n",
       "      <script>\n",
       "        (function() {\n",
       "          const frame = document.getElementById(\"tensorboard-frame-e9c77abcfce8e986\");\n",
       "          const url = new URL(\"/\", window.location);\n",
       "          url.port = 6006;\n",
       "          frame.src = url;\n",
       "        })();\n",
       "      </script>\n",
       "  "
      ],
      "text/plain": [
       "<IPython.core.display.HTML object>"
      ]
     },
     "metadata": {},
     "output_type": "display_data"
    }
   ],
   "source": [
    "notebook.start('--logdir ./demo')"
   ]
  },
  {
   "cell_type": "raw",
   "id": "hawaiian-mirror",
   "metadata": {},
   "source": [
    "除了利用tf.Module的子类化实现封装，我们也可以通过给tf.Module添加属性的方法进行封装。"
   ]
  },
  {
   "cell_type": "code",
   "execution_count": 16,
   "id": "precious-detection",
   "metadata": {},
   "outputs": [],
   "source": [
    "mymodule = tf.Module()\n",
    "mymodule.x = tf.Variable(0.0)\n",
    "\n",
    "@tf.function(input_signature=[tf.TensorSpec(shape=[], dtype=tf.float32)])\n",
    "def addprint(a):\n",
    "    mymodule.x.assign_add(a)\n",
    "    tf.print(mymodule.x)\n",
    "    return mymodule.x\n",
    "\n",
    "mymodule.addprint = addprint"
   ]
  },
  {
   "cell_type": "code",
   "execution_count": 17,
   "id": "seeing-trademark",
   "metadata": {},
   "outputs": [
    {
     "name": "stdout",
     "output_type": "stream",
     "text": [
      "2\r\n"
     ]
    },
    {
     "data": {
      "text/plain": [
       "<tf.Tensor: id=235, shape=(), dtype=float32, numpy=2.0>"
      ]
     },
     "execution_count": 17,
     "metadata": {},
     "output_type": "execute_result"
    }
   ],
   "source": [
    "mymodule.addprint(tf.constant(2.0))"
   ]
  },
  {
   "cell_type": "code",
   "execution_count": 18,
   "id": "neural-restriction",
   "metadata": {},
   "outputs": [
    {
     "name": "stdout",
     "output_type": "stream",
     "text": [
      "(<tf.Variable 'Variable:0' shape=() dtype=float32, numpy=2.0>,)\n"
     ]
    }
   ],
   "source": [
    "print(mymodule.variables)"
   ]
  },
  {
   "cell_type": "code",
   "execution_count": 19,
   "id": "fifteen-command",
   "metadata": {},
   "outputs": [
    {
     "name": "stdout",
     "output_type": "stream",
     "text": [
      "INFO:tensorflow:Assets written to: ./demo/2\\assets\n"
     ]
    }
   ],
   "source": [
    "# 使用tf.saved_model保存模型\n",
    "tf.saved_model.save(mymodule, './demo/2', signatures={'serving_default': mymodule.addprint})"
   ]
  },
  {
   "cell_type": "code",
   "execution_count": 20,
   "id": "capable-paint",
   "metadata": {},
   "outputs": [
    {
     "name": "stdout",
     "output_type": "stream",
     "text": [
      "5\r\n"
     ]
    },
    {
     "data": {
      "text/plain": [
       "<tf.Tensor: id=380, shape=(), dtype=float32, numpy=5.0>"
      ]
     },
     "execution_count": 20,
     "metadata": {},
     "output_type": "execute_result"
    }
   ],
   "source": [
    "# 加载模型\n",
    "demo3 = tf.saved_model.load('./demo/2')\n",
    "demo3.addprint(tf.constant(3.0))"
   ]
  },
  {
   "cell_type": "markdown",
   "id": "balanced-musician",
   "metadata": {},
   "source": [
    "# 2. tf.Module和tf.keras.Model，tf.keras.layers.Layer"
   ]
  },
  {
   "cell_type": "markdown",
   "id": "spectacular-lightning",
   "metadata": {},
   "source": [
    "tf.keras中的模型和层都是继承tf.Module实现的，也具有变量管理和子模块管理功能。"
   ]
  },
  {
   "cell_type": "code",
   "execution_count": 21,
   "id": "another-receiver",
   "metadata": {},
   "outputs": [],
   "source": [
    "import tensorflow as tf\n",
    "from tensorflow.keras import models, layers, losses, metrics"
   ]
  },
  {
   "cell_type": "code",
   "execution_count": 28,
   "id": "satisfied-childhood",
   "metadata": {},
   "outputs": [
    {
     "name": "stdout",
     "output_type": "stream",
     "text": [
      "True\n",
      "True\n",
      "True\n"
     ]
    }
   ],
   "source": [
    "print(issubclass(tf.keras.Model, tf.Module))\n",
    "print(issubclass(tf.keras.layers.Layer, tf.Module))\n",
    "print(issubclass(tf.keras.Model, tf.keras.layers.Layer))\n",
    "\n"
   ]
  },
  {
   "cell_type": "code",
   "execution_count": 29,
   "id": "ancient-sandwich",
   "metadata": {},
   "outputs": [
    {
     "name": "stdout",
     "output_type": "stream",
     "text": [
      "Model: \"sequential\"\n",
      "_________________________________________________________________\n",
      "Layer (type)                 Output Shape              Param #   \n",
      "=================================================================\n",
      "dense (Dense)                (None, 2)                 22        \n",
      "_________________________________________________________________\n",
      "dense_1 (Dense)              (None, 4)                 12        \n",
      "_________________________________________________________________\n",
      "dense_2 (Dense)              (None, 1)                 5         \n",
      "=================================================================\n",
      "Total params: 39\n",
      "Trainable params: 39\n",
      "Non-trainable params: 0\n",
      "_________________________________________________________________\n"
     ]
    }
   ],
   "source": [
    "tf.keras.backend.clear_session()\n",
    "\n",
    "model = models.Sequential()\n",
    "model.add(layers.Dense(2, activation='relu', input_shape=(10, )))\n",
    "model.add(layers.Dense(4, activation='relu'))\n",
    "model.add(layers.Dense(1, activation='sigmoid'))\n",
    "model.summary()"
   ]
  },
  {
   "cell_type": "code",
   "execution_count": 30,
   "id": "unlike-michigan",
   "metadata": {},
   "outputs": [
    {
     "data": {
      "text/plain": [
       "[<tf.Variable 'dense/kernel:0' shape=(10, 2) dtype=float32, numpy=\n",
       " array([[-0.35049674, -0.02351999],\n",
       "        [ 0.32285255,  0.5275101 ],\n",
       "        [ 0.08864206, -0.27221924],\n",
       "        [ 0.6257315 , -0.14535606],\n",
       "        [ 0.59844226, -0.6616413 ],\n",
       "        [-0.6501775 , -0.22005391],\n",
       "        [ 0.5308867 ,  0.05653614],\n",
       "        [-0.5455783 , -0.48621428],\n",
       "        [-0.1260727 , -0.2751235 ],\n",
       "        [-0.51365006, -0.5436198 ]], dtype=float32)>,\n",
       " <tf.Variable 'dense/bias:0' shape=(2,) dtype=float32, numpy=array([0., 0.], dtype=float32)>,\n",
       " <tf.Variable 'dense_1/kernel:0' shape=(2, 4) dtype=float32, numpy=\n",
       " array([[ 0.62013507,  0.38098073, -0.30518413, -0.43327284],\n",
       "        [ 0.6449897 , -0.99844384, -0.04254961, -0.8959601 ]],\n",
       "       dtype=float32)>,\n",
       " <tf.Variable 'dense_1/bias:0' shape=(4,) dtype=float32, numpy=array([0., 0., 0., 0.], dtype=float32)>,\n",
       " <tf.Variable 'dense_2/kernel:0' shape=(4, 1) dtype=float32, numpy=\n",
       " array([[ 0.8702146 ],\n",
       "        [-0.21176416],\n",
       "        [-0.74991053],\n",
       "        [ 0.617381  ]], dtype=float32)>,\n",
       " <tf.Variable 'dense_2/bias:0' shape=(1,) dtype=float32, numpy=array([0.], dtype=float32)>]"
      ]
     },
     "execution_count": 30,
     "metadata": {},
     "output_type": "execute_result"
    }
   ],
   "source": [
    "model.variables"
   ]
  },
  {
   "cell_type": "code",
   "execution_count": 31,
   "id": "parliamentary-milan",
   "metadata": {},
   "outputs": [
    {
     "data": {
      "text/plain": [
       "[<tf.Variable 'dense_1/kernel:0' shape=(2, 4) dtype=float32, numpy=\n",
       " array([[ 0.62013507,  0.38098073, -0.30518413, -0.43327284],\n",
       "        [ 0.6449897 , -0.99844384, -0.04254961, -0.8959601 ]],\n",
       "       dtype=float32)>,\n",
       " <tf.Variable 'dense_1/bias:0' shape=(4,) dtype=float32, numpy=array([0., 0., 0., 0.], dtype=float32)>,\n",
       " <tf.Variable 'dense_2/kernel:0' shape=(4, 1) dtype=float32, numpy=\n",
       " array([[ 0.8702146 ],\n",
       "        [-0.21176416],\n",
       "        [-0.74991053],\n",
       "        [ 0.617381  ]], dtype=float32)>,\n",
       " <tf.Variable 'dense_2/bias:0' shape=(1,) dtype=float32, numpy=array([0.], dtype=float32)>]"
      ]
     },
     "execution_count": 31,
     "metadata": {},
     "output_type": "execute_result"
    }
   ],
   "source": [
    "# 冻结第0层的变量,使其不可训练\n",
    "model.layers[0].trainable = False\n",
    "model.trainable_variables"
   ]
  },
  {
   "cell_type": "code",
   "execution_count": 32,
   "id": "supreme-liberal",
   "metadata": {},
   "outputs": [
    {
     "data": {
      "text/plain": [
       "(<tensorflow.python.keras.engine.input_layer.InputLayer at 0x2045c8a34c8>,\n",
       " <tensorflow.python.keras.layers.core.Dense at 0x2045bbc9048>,\n",
       " <tensorflow.python.keras.layers.core.Dense at 0x20456d2ba88>,\n",
       " <tensorflow.python.keras.layers.core.Dense at 0x2045bb93608>)"
      ]
     },
     "execution_count": 32,
     "metadata": {},
     "output_type": "execute_result"
    }
   ],
   "source": [
    "model.submodules"
   ]
  },
  {
   "cell_type": "code",
   "execution_count": 33,
   "id": "worse-growth",
   "metadata": {},
   "outputs": [
    {
     "data": {
      "text/plain": [
       "[<tensorflow.python.keras.layers.core.Dense at 0x2045bbc9048>,\n",
       " <tensorflow.python.keras.layers.core.Dense at 0x20456d2ba88>,\n",
       " <tensorflow.python.keras.layers.core.Dense at 0x2045bb93608>]"
      ]
     },
     "execution_count": 33,
     "metadata": {},
     "output_type": "execute_result"
    }
   ],
   "source": [
    "model.layers"
   ]
  },
  {
   "cell_type": "code",
   "execution_count": 36,
   "id": "welsh-anchor",
   "metadata": {},
   "outputs": [
    {
     "name": "stdout",
     "output_type": "stream",
     "text": [
      "sequential\n",
      "sequential\n"
     ]
    }
   ],
   "source": [
    "print(model.name)\n",
    "print(model.name_scope())"
   ]
  },
  {
   "cell_type": "code",
   "execution_count": null,
   "id": "designed-december",
   "metadata": {},
   "outputs": [],
   "source": []
  }
 ],
 "metadata": {
  "kernelspec": {
   "display_name": "Python 3",
   "language": "python",
   "name": "python3"
  },
  "language_info": {
   "codemirror_mode": {
    "name": "ipython",
    "version": 3
   },
   "file_extension": ".py",
   "mimetype": "text/x-python",
   "name": "python",
   "nbconvert_exporter": "python",
   "pygments_lexer": "ipython3",
   "version": "3.7.4"
  }
 },
 "nbformat": 4,
 "nbformat_minor": 5
}

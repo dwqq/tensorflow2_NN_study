{
 "cells": [
  {
   "cell_type": "markdown",
   "id": "reserved-motivation",
   "metadata": {},
   "source": [
    "# 1. 数据准备"
   ]
  },
  {
   "cell_type": "markdown",
   "id": "contemporary-assembly",
   "metadata": {},
   "source": [
    "图像数据准备方法：\n",
    "\n",
    "1、用tf.keras中的ImageDataGenerator工具构建图片数据生成器；\n",
    "\n",
    "2、使用tf.data.Dataset搭配tf.image中的一些图片处理方法构建数据管道（TensorFlow的原生方法）。\n",
    "\n",
    "本文使用第2中方法准备图像数据"
   ]
  },
  {
   "cell_type": "markdown",
   "id": "veterinary-guard",
   "metadata": {},
   "source": [
    "图像说明：\n",
    "\n",
    "cifar2数据集为cifar10数据集的子集，只包括前两种类别airplane和automobile。\n",
    "\n",
    "训练集有airplane和automobile图片各5000张，测试集有airplane和automobile图片各1000张。\n",
    "\n",
    "cifar2任务的目标是训练一个模型来对飞机airplane和机动车automobile两种图片进行分类"
   ]
  },
  {
   "cell_type": "code",
   "execution_count": 1,
   "id": "portuguese-planner",
   "metadata": {},
   "outputs": [],
   "source": [
    "import tensorflow as tf\n",
    "from tensorflow.keras import models, layers, datasets\n",
    "\n",
    "BATCH_SIZE = 100"
   ]
  },
  {
   "cell_type": "code",
   "execution_count": null,
   "id": "bacterial-campbell",
   "metadata": {},
   "outputs": [],
   "source": []
  }
 ],
 "metadata": {
  "kernelspec": {
   "display_name": "Python 3",
   "language": "python",
   "name": "python3"
  },
  "language_info": {
   "codemirror_mode": {
    "name": "ipython",
    "version": 3
   },
   "file_extension": ".py",
   "mimetype": "text/x-python",
   "name": "python",
   "nbconvert_exporter": "python",
   "pygments_lexer": "ipython3",
   "version": "3.7.4"
  }
 },
 "nbformat": 4,
 "nbformat_minor": 5
}

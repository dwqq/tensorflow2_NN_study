{
 "cells": [
  {
   "cell_type": "markdown",
   "id": "charged-butterfly",
   "metadata": {},
   "source": [
    "# 1. 数据准备"
   ]
  },
  {
   "cell_type": "markdown",
   "id": "prerequisite-interpretation",
   "metadata": {},
   "source": [
    "图像数据准备方法：\n",
    "\n",
    "1、用tf.keras中的ImageDataGenerator工具构建图片数据生成器；\n",
    "\n",
    "2、使用tf.data.Dataset搭配tf.image中的一些图片处理方法构建数据管道（TensorFlow的原生方法）。\n",
    "\n",
    "本文使用第2中方法准备图像数据"
   ]
  },
  {
   "cell_type": "markdown",
   "id": "useful-awareness",
   "metadata": {},
   "source": [
    "图像说明：\n",
    "\n",
    "cifar2数据集为cifar10数据集的子集，只包括前两种类别airplane和automobile。\n",
    "\n",
    "训练集有airplane和automobile图片各5000张，测试集有airplane和automobile图片各1000张。\n",
    "\n",
    "cifar2任务的目标是训练一个模型来对飞机airplane和机动车automobile两种图片进行分类"
   ]
  },
  {
   "cell_type": "code",
   "execution_count": 37,
   "id": "material-conclusion",
   "metadata": {},
   "outputs": [],
   "source": [
    "import os\n",
    "import datetime\n",
    "import tensorflow as tf\n",
    "from tensorflow.keras import models, layers, datasets\n",
    "from tensorboard import notebook\n",
    "import pandas as pd\n",
    "import matplotlib.pyplot as plt\n",
    "\n",
    "BATCH_SIZE = 100"
   ]
  },
  {
   "cell_type": "code",
   "execution_count": 38,
   "id": "recorded-norway",
   "metadata": {},
   "outputs": [],
   "source": [
    "def load_image(image_path, size=(32, 32)):\n",
    "    # 正则匹配image_path与“.*automobile.*”\n",
    "    if tf.strings.regex_full_match(image_path, '.*automobile.*'):\n",
    "        label = tf.constant(1, tf.int8)\n",
    "    else:\n",
    "        label = tf.constant(0, tf.int8)\n",
    "    img = tf.io.read_file(image_path)\n",
    "    img = tf.image.decode_jpeg(img)\n",
    "    img = tf.image.resize(img, size) / 255\n",
    "    return img, label"
   ]
  },
  {
   "cell_type": "code",
   "execution_count": 39,
   "id": "specified-killing",
   "metadata": {},
   "outputs": [],
   "source": [
    "# 使用并行化预处理num_parallel_calls 和预存数据prefetch来提升性能\n",
    "ds_train = tf.data.Dataset.list_files('../data/cifar2/train/*/*.jpg') \\\n",
    "            .map(load_image, num_parallel_calls=tf.data.experimental.AUTOTUNE) \\\n",
    "            .shuffle(buffer_size=1000).batch(BATCH_SIZE) \\\n",
    "            .prefetch(tf.data.experimental.AUTOTUNE)\n",
    "ds_test = tf.data.Dataset.list_files('../data/cifar2/test/*/*.jpg') \\\n",
    "            .map(load_image, num_parallel_calls=tf.data.experimental.AUTOTUNE) \\\n",
    "            .batch(BATCH_SIZE) \\\n",
    "            .prefetch(tf.data.experimental.AUTOTUNE)"
   ]
  },
  {
   "cell_type": "code",
   "execution_count": 36,
   "id": "covered-movie",
   "metadata": {},
   "outputs": [
    {
     "name": "stdout",
     "output_type": "stream",
     "text": [
      "(100, 32, 32, 3)\n"
     ]
    }
   ],
   "source": [
    "# 查看部分数据\n",
    "%matplotlib inline\n",
    "%config InlineBackend.figure_format = 'svg'\n",
    "\n",
    "plt.figure(figsize=(8, 8))\n",
    "for i, (img, label) in enumerate(ds_train.unbatch.take(8)):\n",
    "    ax = plt.subplot(4,2,i+1)\n",
    "    ax.imshow(img.numpy())\n",
    "    ax.set_title('')"
   ]
  },
  {
   "cell_type": "code",
   "execution_count": null,
   "id": "adult-washer",
   "metadata": {},
   "outputs": [],
   "source": []
  }
 ],
 "metadata": {
  "kernelspec": {
   "display_name": "Python 3",
   "language": "python",
   "name": "python3"
  },
  "language_info": {
   "codemirror_mode": {
    "name": "ipython",
    "version": 3
   },
   "file_extension": ".py",
   "mimetype": "text/x-python",
   "name": "python",
   "nbconvert_exporter": "python",
   "pygments_lexer": "ipython3",
   "version": "3.7.4"
  }
 },
 "nbformat": 4,
 "nbformat_minor": 5
}
